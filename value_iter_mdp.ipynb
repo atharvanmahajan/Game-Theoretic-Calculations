{
 "cells": [
  {
   "cell_type": "code",
   "execution_count": null,
   "metadata": {},
   "outputs": [],
   "source": [
    "%pip install mdptoolbox"
   ]
  },
  {
   "cell_type": "code",
   "execution_count": 38,
   "metadata": {},
   "outputs": [],
   "source": [
    "import numpy as np\n",
    "import mdptoolbox\n",
    "import matplotlib.pyplot as plt"
   ]
  },
  {
   "cell_type": "code",
   "execution_count": 70,
   "metadata": {},
   "outputs": [
    {
     "name": "stdout",
     "output_type": "stream",
     "text": [
      "(0, 2, 2, 1)\n"
     ]
    }
   ],
   "source": [
    "# Defining Parameters\n",
    "p = 0.05 # Probability of trigging challenge mechanism\n",
    "q = 1 # Probability of getting detected in challenge mechanism\n",
    "\n",
    "R = 0.5 # Reward for completing the computation\n",
    "C = 0.45 # Cost for completing the computation\n",
    "C_1 = 0.45 # Cost for just decrypting the data\n",
    "discount = 0.999 # Discount factor\n",
    "K = 2000 # Cost of breaking the TEE\n",
    "S = 100 # Cost of replacing the device \n",
    "U = 108\n",
    "W = 1\n",
    "\n",
    "temp_transition_model = np.zeros((3, 4, 4))\n",
    "\n",
    "# For action 1 (a_A)\n",
    "temp_transition_model[0, :, :] = np.array([[1, 0, 0, 0], [0, 1, 0, 0], [0, 0, 1, 0], [1, 0, 0, 0]])\n",
    "\n",
    "# For action 2 (a_B1)\n",
    "temp_transition_model[1, :, :] = np.array([[0, 1, 0, 0], [0, 1, 0, 0], [0, 1, 0, 0], [0, 0, 0, 1]])\n",
    "\n",
    "# For action 3 (a_B2)\n",
    "temp_transition_model[2, :, :] = np.array([[0, 0, 1 - p*q, p*q], [0, 0, 1 - p*q, p*q], [0, 0, 1 - p*q, p*q], [0, 0, 0, 1]])\n",
    "\n",
    "# Defining the Reward Model. The first index is the action, second is the current state and third is the next state\n",
    "\n",
    "reward_model = np.zeros((3, 4, 4))\n",
    "\n",
    "# For action 1 (a_A)\n",
    "reward_model[0, :, :] = np.array([[R - C, 0, 0, 0], [0, 0, 0, 0], [0, 0, 0, 0], [- S, 0, 0, 0]])\n",
    "\n",
    "# For action 2 (a_B1)\n",
    "reward_model[1, :, :] = np.array([[0, - K + R - C + W, 0, 0], [0, R - C + W, 0, 0], [0, R - C + W, 0, 0], [0, 0, 0, 0]])\n",
    "\n",
    "# For action 3 (a_B2)\n",
    "reward_model[2, :, :] = np.array([[0, 0, - K + R - C_1 + W + U, - K - C_1 + W], [0, 0, R - C_1 + W + U, - C_1 + W], [0, 0, R - C_1 + W + U, - C_1 + W], [0, 0, 0, 0]])\n",
    "\n",
    "pi = mdptoolbox.mdp.PolicyIteration(temp_transition_model, reward_model, discount, max_iter=1000000)\n",
    "pi.run()\n",
    "print(pi.policy)"
   ]
  },
  {
   "cell_type": "code",
   "execution_count": 40,
   "metadata": {},
   "outputs": [
    {
     "data": {
      "text/plain": [
       "[<matplotlib.lines.Line2D at 0x12c8e3990>]"
      ]
     },
     "execution_count": 40,
     "metadata": {},
     "output_type": "execute_result"
    },
    {
     "data": {
      "image/png": "[encoded data removed]",
      "text/plain": [
       "<Figure size 640x480 with 1 Axes>"
      ]
     },
     "metadata": {},
     "output_type": "display_data"
    }
   ],
   "source": [
    "plt.plot(U_lim, W_lim)"
   ]
  },
  {
   "cell_type": "code",
   "execution_count": 17,
   "metadata": {},
   "outputs": [
    {
     "name": "stdout",
     "output_type": "stream",
     "text": [
      "(1, 1, 1, 0)\n",
      "(107.64852997216872, 2107.648529972169, 2107.648529972169, 4.5985299721684925)\n"
     ]
    }
   ],
   "source": [
    "vi = mdptoolbox.mdp.ValueIteration(temp_transition_model, reward_model, discount, max_iter=1000000)\n",
    "vi.run()\n",
    "print(vi.policy)\n",
    "print(vi.V)"
   ]
  },
  {
   "cell_type": "code",
   "execution_count": 37,
   "metadata": {},
   "outputs": [
    {
     "name": "stdout",
     "output_type": "stream",
     "text": [
      "(1, 1, 1, 0)\n",
      "(149.99999999999758, 2149.9999999999977, 2149.9999999999977, 49.84999999999788)\n"
     ]
    }
   ],
   "source": [
    "pi = mdptoolbox.mdp.PolicyIteration(temp_transition_model, reward_model, discount, max_iter=1000000)\n",
    "pi.run()\n",
    "print(pi.policy)\n",
    "print(pi.V)"
   ]
  },
  {
   "cell_type": "code",
   "execution_count": 88,
   "metadata": {},
   "outputs": [
    {
     "name": "stdout",
     "output_type": "stream",
     "text": [
      "(0, 1, 1, 1)\n",
      "(184.16491138986902, 299.9978446801327, 299.99655747893985, 0.0)\n"
     ]
    }
   ],
   "source": [
    "q = mdptoolbox.mdp.QLearning(temp_transition_model, reward_model, discount, n_iter=1000000)\n",
    "q.run()\n",
    "print(q.policy)\n",
    "print(q.V)"
   ]
  }
 ],
 "metadata": {
  "kernelspec": {
   "display_name": "Python 3",
   "language": "python",
   "name": "python3"
  },
  "language_info": {
   "codemirror_mode": {
    "name": "ipython",
    "version": 3
   },
   "file_extension": ".py",
   "mimetype": "text/x-python",
   "name": "python",
   "nbconvert_exporter": "python",
   "pygments_lexer": "ipython3",
   "version": "3.11.3"
  }
 },
 "nbformat": 4,
 "nbformat_minor": 2
}
